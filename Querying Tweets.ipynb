{
 "cells": [
  {
   "cell_type": "markdown",
   "metadata": {},
   "source": [
    "# Install Twitterscrapper"
   ]
  },
  {
   "cell_type": "markdown",
   "metadata": {},
   "source": [
    "Open Anaconda command and type \"pip install twitterscrapper\""
   ]
  },
  {
   "cell_type": "markdown",
   "metadata": {},
   "source": [
    "# Loading Libraries and Querying Tweets\n"
   ]
  },
  {
   "cell_type": "code",
   "execution_count": 55,
   "metadata": {},
   "outputs": [
    {
     "name": "stderr",
     "output_type": "stream",
     "text": [
      "INFO: queries: ['#cibc since:2019-01-01 until:2019-01-09', '#cibc since:2019-01-09 until:2019-01-17', '#cibc since:2019-01-17 until:2019-01-25', '#cibc since:2019-01-25 until:2019-02-02', '#cibc since:2019-02-02 until:2019-02-10', '#cibc since:2019-02-10 until:2019-02-18', '#cibc since:2019-02-18 until:2019-02-26', '#cibc since:2019-02-26 until:2019-03-06', '#cibc since:2019-03-06 until:2019-03-14', '#cibc since:2019-03-14 until:2019-03-22']\n",
      "INFO: Got 19 tweets (19 new).\n",
      "INFO: Got 40 tweets (21 new).\n",
      "INFO: Got 62 tweets (22 new).\n",
      "INFO: Got 90 tweets (28 new).\n",
      "INFO: Got 119 tweets (29 new).\n",
      "INFO: Got 166 tweets (47 new).\n",
      "INFO: Got 218 tweets (52 new).\n",
      "INFO: Got 267 tweets (49 new).\n",
      "INFO: Got 320 tweets (53 new).\n",
      "INFO: Got 435 tweets (115 new).\n"
     ]
    }
   ],
   "source": [
    "import datetime as dt\n",
    "import pandas as pd\n",
    "import codecs,json\n",
    "from twitterscraper import query_tweets\n",
    "\n",
    "# Set up date range for the extraction\n",
    "begindate = dt.date(2019,1,1)\n",
    "enddate = dt.date.today() - dt.timedelta(days=1)\n",
    "\n",
    "# Querying tweets using twitterscraper's query_tweets\n",
    "# Query_tweets function:\n",
    "'''\n",
    "query_tweets(query = args.query, limit = args.limit,\n",
    "                              begindate = args.begindate, enddate = args.enddate,\n",
    "                              poolsize = args.poolsize, lang = args.lang)\n",
    "'''\n",
    "\n",
    "list_of_tweets = query_tweets(\"#cibc\", limit = None, begindate = begindate, enddate = enddate, poolsize = 10)\n",
    "list_of_encoded_tweets = [] # create empty list to save multiple tweets which is type of dictionary\n",
    "\n",
    "for tweets in list_of_tweets:\n",
    "    tweets.timestamp = dt.datetime.strftime(tweets.timestamp, '%Y-%m-%d %H:%M:%S')\n",
    "    list_of_encoded_tweets.append(vars(tweets))\n",
    "\n"
   ]
  },
  {
   "cell_type": "markdown",
   "metadata": {},
   "source": [
    "# Save Output as DataFrame"
   ]
  },
  {
   "cell_type": "code",
   "execution_count": 56,
   "metadata": {},
   "outputs": [
    {
     "name": "stdout",
     "output_type": "stream",
     "text": [
      "            user              fullname                   id  \\\n",
      "0  jere_stichter     Jeremiah Stichter  1082758188632629250   \n",
      "1     BradyDoyle  DoyleHunter Advisory  1082747522034982912   \n",
      "2     BCNewsWire           BC NewsWire  1082652445115891712   \n",
      "3     away_tales         TalesFromAway  1082483951531421696   \n",
      "4        ndnopie         Davey Bobbish  1082479312027246592   \n",
      "\n",
      "                                         url            timestamp  \\\n",
      "0  /jere_stichter/status/1082758188632629250  2019-01-08 21:57:23   \n",
      "1     /BradyDoyle/status/1082747522034982912  2019-01-08 21:15:00   \n",
      "2     /BCNewsWire/status/1082652445115891712  2019-01-08 14:57:12   \n",
      "3     /away_tales/status/1082483951531421696  2019-01-08 03:47:40   \n",
      "4        /ndnopie/status/1082479312027246592  2019-01-08 03:29:14   \n",
      "\n",
      "                                                text  replies  retweets  \\\n",
      "0  Just had a bank call me and thank me for openi...        0         0   \n",
      "1  Welcome to 2019 — the dawn of a brand new #tax...        0         0   \n",
      "2  'A day of reckoning is coming for #Trudeau Lib...        0         0   \n",
      "3  Love the comfy chairs @cibc provided for Pears...        0         0   \n",
      "4  Our branch closed its doors in our community b...        2         0   \n",
      "\n",
      "   likes                                               html  \n",
      "0      1  <p class=\"TweetTextSize js-tweet-text tweet-te...  \n",
      "1      0  <p class=\"TweetTextSize js-tweet-text tweet-te...  \n",
      "2      0  <p class=\"TweetTextSize js-tweet-text tweet-te...  \n",
      "3      2  <p class=\"TweetTextSize js-tweet-text tweet-te...  \n",
      "4      9  <p class=\"TweetTextSize js-tweet-text tweet-te...  \n"
     ]
    }
   ],
   "source": [
    "# save output as df \n",
    "\n",
    "list_tweets = [list(elem.values()) for elem in list_of_encoded_tweets]\n",
    "list_columns = list(list_of_encoded_tweets[0].keys())\n",
    "df = pd.DataFrame(list_tweets, columns = list_columns)\n",
    "\n",
    "print(df.head())\n"
   ]
  },
  {
   "cell_type": "markdown",
   "metadata": {},
   "source": [
    "# Save Output as CSV"
   ]
  },
  {
   "cell_type": "code",
   "execution_count": 57,
   "metadata": {
    "collapsed": true
   },
   "outputs": [],
   "source": [
    "# dataframe to csv file\n",
    "\n",
    "df.to_csv(r'cibc_tweets.csv', index=False)"
   ]
  },
  {
   "cell_type": "markdown",
   "metadata": {},
   "source": [
    "# Save Output as JSON"
   ]
  },
  {
   "cell_type": "code",
   "execution_count": 58,
   "metadata": {
    "collapsed": true
   },
   "outputs": [],
   "source": [
    "# save output as JSON file\n",
    "jsonfile = open('cibc_tweets.json','w')\n",
    "json.dump(list_of_encoded_tweets, jsonfile)"
   ]
  },
  {
   "cell_type": "markdown",
   "metadata": {},
   "source": [
    "# Using CLI/Anaconda Command"
   ]
  },
  {
   "cell_type": "markdown",
   "metadata": {},
   "source": [
    "It's easier to save a file as json or csv using CLI. Here's an exmaple.\n",
    "<br>\n",
    "For example: \n",
    "<br>\n",
    "1) twitterscraper \"#cibc\" -l 100 -bd 2017-01-01 -ed 2017-06-01 -o cibc_tweets.csv -c\n",
    "<br>\n",
    "2) twitterscraper \"#cibc or @cibc\" -l 100 -bd 2017-01-01 -ed 2017-06-01 -p 10 -o cibc_tweets.json\n",
    "<br>\n",
    "<br>\n",
    "For more info, go to https://github.com/taspinar/twitterscraper"
   ]
  }
 ],
 "metadata": {
  "kernelspec": {
   "display_name": "Python 3",
   "language": "python",
   "name": "python3"
  },
  "language_info": {
   "codemirror_mode": {
    "name": "ipython",
    "version": 3
   },
   "file_extension": ".py",
   "mimetype": "text/x-python",
   "name": "python",
   "nbconvert_exporter": "python",
   "pygments_lexer": "ipython3",
   "version": "3.6.1"
  }
 },
 "nbformat": 4,
 "nbformat_minor": 2
}
