{
 "cells": [
  {
   "cell_type": "code",
   "execution_count": 110,
   "metadata": {
    "collapsed": true
   },
   "outputs": [],
   "source": [
    "# Load packages\n",
    "import numpy as np\n",
    "import pandas as p\n",
    "from datetime import datetime"
   ]
  },
  {
   "cell_type": "markdown",
   "metadata": {},
   "source": [
    "# 1. Data Preprocessing"
   ]
  },
  {
   "cell_type": "markdown",
   "metadata": {},
   "source": [
    "## 1.1 Consolidate Dataset"
   ]
  },
  {
   "cell_type": "code",
   "execution_count": 111,
   "metadata": {},
   "outputs": [
    {
     "name": "stdout",
     "output_type": "stream",
     "text": [
      "             user                   fullname                   id  \\\n",
      "0   Play2LearnEdu  Play2Learn Education®²?¹?  1096558968581742592   \n",
      "1   Play2LearnEdu  Play2Learn Education®²?¹?  1096557715768279045   \n",
      "2  FiebigerWriter            Andrew Fiebiger  1096555080285732864   \n",
      "3     langaraCCDC       Langara Co-op/Career  1096551195307429890   \n",
      "4  montrealinform          Montreal Informer  1096546075123568641   \n",
      "\n",
      "                                          url            timestamp  \\\n",
      "0   /Play2LearnEdu/status/1096558968581742592  2019-02-15 23:56:45   \n",
      "1   /Play2LearnEdu/status/1096557715768279045  2019-02-15 23:51:47   \n",
      "2  /FiebigerWriter/status/1096555080285732864  2019-02-15 23:41:18   \n",
      "3     /langaraCCDC/status/1096551195307429890  2019-02-15 23:25:52   \n",
      "4  /montrealinform/status/1096546075123568641  2019-02-15 23:05:31   \n",
      "\n",
      "                                                text  replies  retweets  \\\n",
      "0  FLL #team42177 #supernova team member Davis pr...        0         0   \n",
      "1  FLL #team42177 #supernova team member Davis pr...        0         0   \n",
      "2  Hey @cibc\\nI would like to recommend the idea ...        1         1   \n",
      "3  We hosted the 9th PDD Morning Mingle where Pos...        0         0   \n",
      "4  CIBC Innovation Banking hires for Montréal, Me...        0         0   \n",
      "\n",
      "   likes                                               html  \n",
      "0      0  <p class=\"TweetTextSize js-tweet-text tweet-te...  \n",
      "1      1  <p class=\"TweetTextSize js-tweet-text tweet-te...  \n",
      "2      3  <p class=\"TweetTextSize js-tweet-text tweet-te...  \n",
      "3      2  <p class=\"TweetTextSize js-tweet-text tweet-te...  \n",
      "4      0  <p class=\"TweetTextSize js-tweet-text tweet-te...  \n",
      "              App Name App Store                  App Store     App ID  \\\n",
      "0  CIBC Mobile Banking       iOS  CIBC Mobile Banking   iOS  351448953   \n",
      "1  CIBC Mobile Banking       iOS  CIBC Mobile Banking   iOS  351448953   \n",
      "2  CIBC Mobile Banking       iOS  CIBC Mobile Banking   iOS  351448953   \n",
      "3  CIBC Mobile Banking       iOS  CIBC Mobile Banking   iOS  351448953   \n",
      "4  CIBC Mobile Banking       iOS  CIBC Mobile Banking   iOS  351448953   \n",
      "\n",
      "    Review ID Country  Version  Rating       Date  \\\n",
      "0  3902085253  Canada  10.10.3       1 2019-03-20   \n",
      "1  3901178898  Canada  10.10.3       2 2019-03-19   \n",
      "2  3893450681  Canada  10.10.3       3 2019-03-17   \n",
      "3  3882357860   China  10.10.3       1 2019-03-15   \n",
      "4  3885434139  Canada  10.10.3       1 2019-03-15   \n",
      "\n",
      "                     ...                          Translated Subject  \\\n",
      "0                    ...                                         NaN   \n",
      "1                    ...                                         NaN   \n",
      "2                    ...                                         NaN   \n",
      "3                    ...                     How to switch languages   \n",
      "4                    ...                                         NaN   \n",
      "\n",
      "  Translated Body Sentiment Device              Language OS Version  \\\n",
      "0             NaN  negative    NaN               English        NaN   \n",
      "1             NaN  negative    NaN               English        NaN   \n",
      "2             NaN  positive    NaN               English        NaN   \n",
      "3  How is French?  negative    NaN  Chinese (Simplified)        NaN   \n",
      "4             NaN  negative    NaN               English        NaN   \n",
      "\n",
      "                                           Reply URL  \\\n",
      "0  https://app.appbot.co/apps/30102-cibc-mobile-b...   \n",
      "1  https://app.appbot.co/apps/30102-cibc-mobile-b...   \n",
      "2  https://app.appbot.co/apps/30102-cibc-mobile-b...   \n",
      "3  https://app.appbot.co/apps/30102-cibc-mobile-b...   \n",
      "4  https://app.appbot.co/apps/30102-cibc-mobile-b...   \n",
      "\n",
      "                                              Topics  \\\n",
      "0                                                 []   \n",
      "1                                                 []   \n",
      "2                         [\"Performance\", \"Pricing\"]   \n",
      "3                                                 []   \n",
      "4  [\"Frequency\", \"Security & Accounts\", \"Sign Up ...   \n",
      "\n",
      "                    Custom Topics                                      Tags  \n",
      "0                 [\"Banking App\"]                    [\"Dissatisfied users\"]  \n",
      "1  [\"Banking App\", \"Credit Card\"]    [\"Credit Score\", \"Dissatisfied users\"]  \n",
      "2                 [\"Banking App\"]                       [\"Satisfied users\"]  \n",
      "3                              []                                        []  \n",
      "4                              []  [\"Dissatisfied users\", \"Password issue\"]  \n",
      "\n",
      "[5 rows x 23 columns]\n"
     ]
    }
   ],
   "source": [
    "# Load previously saved CIBC tweets and app reviews\n",
    "df_tweets = pd.read_csv(r'cibc_tweets.csv',encoding='iso-8859-1')\n",
    "df_app = pd.read_excel('CIBC_App_Reviews.xlsx')\n",
    "# Check the top records\n",
    "print(df_tweets.head())\n",
    "print(df_app.head())"
   ]
  },
  {
   "cell_type": "markdown",
   "metadata": {},
   "source": [
    "Now we are going to extract the columns we need for the sentiment analysis.\n"
   ]
  },
  {
   "cell_type": "code",
   "execution_count": 112,
   "metadata": {},
   "outputs": [
    {
     "name": "stdout",
     "output_type": "stream",
     "text": [
      "-- Columns for df_tweets--\n",
      "\n",
      "user         object\n",
      "fullname     object\n",
      "id            int64\n",
      "url          object\n",
      "timestamp    object\n",
      "text         object\n",
      "replies       int64\n",
      "retweets      int64\n",
      "likes         int64\n",
      "html         object\n",
      "dtype: object\n",
      "\n",
      "-- Columns for df_app--\n",
      "\n",
      "App Name                      object\n",
      "App Store                     object\n",
      "App                           object\n",
      "Store                         object\n",
      "App ID                        object\n",
      "Review ID                     object\n",
      "Country                       object\n",
      "Version                       object\n",
      "Rating                         int64\n",
      "Date                  datetime64[ns]\n",
      "Author                        object\n",
      "Subject                       object\n",
      "Body                          object\n",
      "Translated Subject            object\n",
      "Translated Body               object\n",
      "Sentiment                     object\n",
      "Device                       float64\n",
      "Language                      object\n",
      "OS Version                   float64\n",
      "Reply URL                     object\n",
      "Topics                        object\n",
      "Custom Topics                 object\n",
      "Tags                          object\n",
      "dtype: object\n"
     ]
    }
   ],
   "source": [
    "# Check the columns\n",
    "print('-- Columns for df_tweets--\\n')\n",
    "print(df_tweets.dtypes)\n",
    "print('\\n-- Columns for df_app--\\n')\n",
    "print(df_app.dtypes)\n"
   ]
  },
  {
   "cell_type": "markdown",
   "metadata": {},
   "source": [
    "In the df_tweets, we are going to keep timestamp and text. Then, we will remove duplicates."
   ]
  },
  {
   "cell_type": "code",
   "execution_count": 113,
   "metadata": {},
   "outputs": [
    {
     "name": "stdout",
     "output_type": "stream",
     "text": [
      "             timestamp                                               text\n",
      "0  2019-02-15 23:56:45  FLL #team42177 #supernova team member Davis pr...\n",
      "1  2019-02-15 23:51:47  FLL #team42177 #supernova team member Davis pr...\n",
      "2  2019-02-15 23:41:18  Hey @cibc\\nI would like to recommend the idea ...\n",
      "3  2019-02-15 23:25:52  We hosted the 9th PDD Morning Mingle where Pos...\n",
      "4  2019-02-15 23:05:31  CIBC Innovation Banking hires for Montréal, Me...\n",
      "5  2019-02-15 23:00:51  Thank you so much to Virden CIBC for donating ...\n",
      "6  2019-02-15 22:51:27  Thank you so much to Virden CIBC for donating ...\n",
      "7  2019-02-15 22:39:55  It was a pleasant surprise to know that #cibc ...\n",
      "8  2019-02-15 22:29:18  CIBC Innovation Banking hires for Montréal, Me...\n",
      "9  2019-02-15 22:21:14  CIBC has been shit with my RRSP , moved them t...\n",
      "\n",
      "Total Number of Original Tweets: 24081\n",
      "\n",
      "             timestamp                                               text\n",
      "0  2019-02-15 23:56:45  fll #team42177 #supernova team member davis pr...\n",
      "1  2019-02-15 23:51:47  fll #team42177 #supernova team member davis pr...\n",
      "2  2019-02-15 23:41:18  hey @cibc\\ni would like to recommend the idea ...\n",
      "3  2019-02-15 23:25:52  we hosted the 9th pdd morning mingle where pos...\n",
      "4  2019-02-15 23:05:31  cibc innovation banking hires for montréal, me...\n",
      "5  2019-02-15 23:00:51  thank you so much to virden cibc for donating ...\n",
      "6  2019-02-15 22:51:27  thank you so much to virden cibc for donating ...\n",
      "7  2019-02-15 22:39:55  it was a pleasant surprise to know that #cibc ...\n",
      "8  2019-02-15 22:29:18  cibc innovation banking hires for montréal, me...\n",
      "9  2019-02-15 22:21:14  cibc has been shit with my rrsp , moved them t...\n",
      "\n",
      "Total Number of De-duplicated Tweets: 21209\n",
      "\n",
      "              timestamp                                               text\n",
      "0   2019-02-15 23:56:45  fll #team42177 #supernova team member davis pr...\n",
      "1   2019-02-15 23:51:47  fll #team42177 #supernova team member davis pr...\n",
      "2   2019-02-15 23:41:18  hey @cibc\\ni would like to recommend the idea ...\n",
      "3   2019-02-15 23:25:52  we hosted the 9th pdd morning mingle where pos...\n",
      "4   2019-02-15 23:05:31  cibc innovation banking hires for montréal, me...\n",
      "5   2019-02-15 23:00:51  thank you so much to virden cibc for donating ...\n",
      "6   2019-02-15 22:51:27  thank you so much to virden cibc for donating ...\n",
      "7   2019-02-15 22:39:55  it was a pleasant surprise to know that #cibc ...\n",
      "8   2019-02-15 22:29:18  cibc innovation banking hires for montréal, me...\n",
      "9   2019-02-15 22:21:14  cibc has been shit with my rrsp , moved them t...\n",
      "10  2019-02-15 22:14:48  discuss what?  youre closing my branch. 2.5 h...\n",
      "11  2019-02-15 22:02:29  hi julz! \\n\\ni have been advised that you have...\n",
      "12  2019-02-15 21:50:04  thank you to our bronze sponsors: @aritzia bee...\n",
      "13  2019-02-15 21:41:13  orion engineered carbons s a $oec market value...\n",
      "14  2019-02-15 21:28:57  click to read the latest cibc wood gundy isg d...\n",
      "15  2019-02-15 21:28:33  telus corp $tu share price declined while cibc...\n",
      "16  2019-02-15 21:27:51  cibc asset management inc has upped brookfield...\n",
      "18  2019-02-15 20:54:25  trading up: cibc names bannan head of equities...\n",
      "19  2019-02-15 20:53:18  thank you to @cibc for their silver level spon...\n",
      "20  2019-02-15 20:43:50  boise cascade co del $bcc stake maintained by ...\n",
      "\n",
      "Total Number of De-duplicated Tweets that contain 'cibc': 15630\n",
      "\n"
     ]
    },
    {
     "name": "stderr",
     "output_type": "stream",
     "text": [
      "C:\\Users\\jwchen69\\Anaconda3\\lib\\site-packages\\ipykernel_launcher.py:7: SettingWithCopyWarning: \n",
      "A value is trying to be set on a copy of a slice from a DataFrame.\n",
      "Try using .loc[row_indexer,col_indexer] = value instead\n",
      "\n",
      "See the caveats in the documentation: http://pandas.pydata.org/pandas-docs/stable/indexing.html#indexing-view-versus-copy\n",
      "  import sys\n"
     ]
    },
    {
     "data": {
      "text/html": [
       "<div>\n",
       "<style>\n",
       "    .dataframe thead tr:only-child th {\n",
       "        text-align: right;\n",
       "    }\n",
       "\n",
       "    .dataframe thead th {\n",
       "        text-align: left;\n",
       "    }\n",
       "\n",
       "    .dataframe tbody tr th {\n",
       "        vertical-align: top;\n",
       "    }\n",
       "</style>\n",
       "<table border=\"1\" class=\"dataframe\">\n",
       "  <thead>\n",
       "    <tr style=\"text-align: right;\">\n",
       "      <th></th>\n",
       "      <th>Date</th>\n",
       "      <th>Comments</th>\n",
       "    </tr>\n",
       "  </thead>\n",
       "  <tbody>\n",
       "    <tr>\n",
       "      <th>0</th>\n",
       "      <td>2019-02-15</td>\n",
       "      <td>fll #team42177 #supernova team member davis pr...</td>\n",
       "    </tr>\n",
       "    <tr>\n",
       "      <th>1</th>\n",
       "      <td>2019-02-15</td>\n",
       "      <td>fll #team42177 #supernova team member davis pr...</td>\n",
       "    </tr>\n",
       "    <tr>\n",
       "      <th>2</th>\n",
       "      <td>2019-02-15</td>\n",
       "      <td>hey @cibc\\ni would like to recommend the idea ...</td>\n",
       "    </tr>\n",
       "    <tr>\n",
       "      <th>3</th>\n",
       "      <td>2019-02-15</td>\n",
       "      <td>we hosted the 9th pdd morning mingle where pos...</td>\n",
       "    </tr>\n",
       "    <tr>\n",
       "      <th>4</th>\n",
       "      <td>2019-02-15</td>\n",
       "      <td>cibc innovation banking hires for montréal, me...</td>\n",
       "    </tr>\n",
       "    <tr>\n",
       "      <th>5</th>\n",
       "      <td>2019-02-15</td>\n",
       "      <td>thank you so much to virden cibc for donating ...</td>\n",
       "    </tr>\n",
       "    <tr>\n",
       "      <th>6</th>\n",
       "      <td>2019-02-15</td>\n",
       "      <td>thank you so much to virden cibc for donating ...</td>\n",
       "    </tr>\n",
       "    <tr>\n",
       "      <th>7</th>\n",
       "      <td>2019-02-15</td>\n",
       "      <td>it was a pleasant surprise to know that #cibc ...</td>\n",
       "    </tr>\n",
       "    <tr>\n",
       "      <th>8</th>\n",
       "      <td>2019-02-15</td>\n",
       "      <td>cibc innovation banking hires for montréal, me...</td>\n",
       "    </tr>\n",
       "    <tr>\n",
       "      <th>9</th>\n",
       "      <td>2019-02-15</td>\n",
       "      <td>cibc has been shit with my rrsp , moved them t...</td>\n",
       "    </tr>\n",
       "  </tbody>\n",
       "</table>\n",
       "</div>"
      ],
      "text/plain": [
       "         Date                                           Comments\n",
       "0  2019-02-15  fll #team42177 #supernova team member davis pr...\n",
       "1  2019-02-15  fll #team42177 #supernova team member davis pr...\n",
       "2  2019-02-15  hey @cibc\\ni would like to recommend the idea ...\n",
       "3  2019-02-15  we hosted the 9th pdd morning mingle where pos...\n",
       "4  2019-02-15  cibc innovation banking hires for montréal, me...\n",
       "5  2019-02-15  thank you so much to virden cibc for donating ...\n",
       "6  2019-02-15  thank you so much to virden cibc for donating ...\n",
       "7  2019-02-15  it was a pleasant surprise to know that #cibc ...\n",
       "8  2019-02-15  cibc innovation banking hires for montréal, me...\n",
       "9  2019-02-15  cibc has been shit with my rrsp , moved them t..."
      ]
     },
     "execution_count": 113,
     "metadata": {},
     "output_type": "execute_result"
    }
   ],
   "source": [
    "# Keep the timestamp and text columns\n",
    "df_tweets_cleaned = df_tweets[['timestamp','text']]\n",
    "print(df_tweets_cleaned.head(10))\n",
    "print('\\nTotal Number of Original Tweets: {}\\n'.format(len(df_tweets_cleaned)))\n",
    "\n",
    "# Convert them to lowercase\n",
    "df_tweets_cleaned['text'] = df_tweets_cleaned['text'].str.lower()\n",
    "print(df_tweets_cleaned.head(10))\n",
    "\n",
    "# Remove duplicates\n",
    "df_tweets_cleaned = df_tweets_cleaned.drop_duplicates(subset=['text'])\n",
    "print('\\nTotal Number of De-duplicated Tweets: {}\\n'.format(len(df_tweets_cleaned)))\n",
    "print(df_tweets_cleaned.head(20))\n",
    "\n",
    "# Keep tweets that contain 'cibc'\n",
    "df_tweets_cleaned = df_tweets_cleaned[df_tweets_cleaned['text'].str.contains('cibc')]\n",
    "print('\\nTotal Number of De-duplicated Tweets that contain \\'cibc\\': {}\\n'.format(len(df_tweets_cleaned)))\n",
    "\n",
    "# Format the timestamp to date\n",
    "df_tweets_cleaned['date'] = [datetime.strptime(d[:10], '%Y-%m-%d').date() for d in df_tweets_cleaned['timestamp']]\n",
    "\n",
    "# Keep only date and text columns and rename them\n",
    "df_tweets_cleaned = df_tweets_cleaned[['date','text']]\n",
    "df_tweets_cleaned.columns = ['Date','Comments']\n",
    "\n",
    "\n",
    "df_tweets_cleaned.head(n=10)"
   ]
  },
  {
   "cell_type": "markdown",
   "metadata": {},
   "source": [
    "Now we will be cleaning the app reviews data and then merge the two datasets."
   ]
  },
  {
   "cell_type": "code",
   "execution_count": 114,
   "metadata": {},
   "outputs": [
    {
     "name": "stdout",
     "output_type": "stream",
     "text": [
      "--Total Number of App Reivews: 7738 --\n",
      "\n",
      "--Total Number of English App Reivews: 7400 --\n",
      "\n",
      "        Date                                           Comments\n",
      "0 2019-03-20        This app is as crappy as the bank that made\n",
      "1 2019-03-19  The credit score calculator has been down for ...\n",
      "2 2019-03-17  I stopped banking with CIBC due to another ban...\n",
      "4 2019-03-15  I have to change my password every time I try ...\n",
      "5 2019-03-14  Can’t log out. Or is very cumbersome to log ou...\n"
     ]
    },
    {
     "data": {
      "text/plain": [
       "Date        datetime64[ns]\n",
       "Comments            object\n",
       "dtype: object"
      ]
     },
     "execution_count": 114,
     "metadata": {},
     "output_type": "execute_result"
    }
   ],
   "source": [
    "# Now select only English reviews.\n",
    "print('--Total Number of App Reivews: {} --\\n'.format(len(df_app)))\n",
    "df_app_cleaned = df_app[df_app['Language'] == 'English']\n",
    "print('--Total Number of English App Reivews: {} --\\n'.format(len(df_app_cleaned)))\n",
    "\n",
    "# Then select only Date and Body column\n",
    "df_app_cleaned = df_app_cleaned[['Date','Body']]\n",
    "df_app_cleaned.columns = ['Date','Comments']\n",
    "print(df_app_cleaned.head())\n",
    "\n",
    "df_app_cleaned.dtypes"
   ]
  },
  {
   "cell_type": "code",
   "execution_count": 115,
   "metadata": {},
   "outputs": [
    {
     "name": "stdout",
     "output_type": "stream",
     "text": [
      "         Date                                           Comments\n",
      "0  2019-02-15  fll #team42177 #supernova team member davis pr...\n",
      "1  2019-02-15  fll #team42177 #supernova team member davis pr...\n",
      "2  2019-02-15  hey @cibc\\ni would like to recommend the idea ...\n",
      "3  2019-02-15  we hosted the 9th pdd morning mingle where pos...\n",
      "4  2019-02-15  cibc innovation banking hires for montréal, me...\n",
      "\n",
      "--Total Number of De-duplicated Tweets that contain 'cibc': 15630 --\n",
      "\n",
      "\n",
      "--Total Number of English App Reivews: 7400 --\n",
      "\n",
      "\n",
      "--Total Number of Comments: 23030 --\n"
     ]
    }
   ],
   "source": [
    "# Appending two dataframes\n",
    "df_combined = pd.concat([df_tweets_cleaned, df_app_cleaned], ignore_index=True)\n",
    "print(df_combined.head())\n",
    "print('\\n--Total Number of De-duplicated Tweets that contain \\'cibc\\': {} --\\n'.format(len(df_tweets_cleaned)))\n",
    "print('\\n--Total Number of English App Reivews: {} --\\n'.format(len(df_app_cleaned)))\n",
    "print('\\n--Total Number of Comments: {} --'.format(len(df_combined)))"
   ]
  },
  {
   "cell_type": "markdown",
   "metadata": {},
   "source": [
    "Afert consolidating the dataset we end up with **23,030** reviews to work with for CIBC."
   ]
  }
 ],
 "metadata": {
  "kernelspec": {
   "display_name": "Python 3",
   "language": "python",
   "name": "python3"
  },
  "language_info": {
   "codemirror_mode": {
    "name": "ipython",
    "version": 3
   },
   "file_extension": ".py",
   "mimetype": "text/x-python",
   "name": "python",
   "nbconvert_exporter": "python",
   "pygments_lexer": "ipython3",
   "version": "3.6.1"
  }
 },
 "nbformat": 4,
 "nbformat_minor": 2
}
